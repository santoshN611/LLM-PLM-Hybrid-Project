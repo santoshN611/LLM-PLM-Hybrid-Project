{
 "cells": [
  {
   "cell_type": "code",
   "execution_count": null,
   "metadata": {},
   "outputs": [],
   "source": [
    "import os, sys\n",
    "\n",
    "# adjust to point at your repo’s scripts folder\n",
    "REPO_ROOT = os.path.abspath(\"/home/hice1/snachimuthu7/CSE7850/class_project/LLM-PLM-Hybrid-Project\")\n",
    "SCRIPTS   = os.path.join(REPO_ROOT, \"scripts\")\n",
    "\n",
    "if SCRIPTS not in sys.path:\n",
    "    sys.path.insert(0, SCRIPTS)\n",
    "\n",
    "print(\"scripts folder:\", SCRIPTS)\n"
   ]
  },
  {
   "cell_type": "code",
   "execution_count": null,
   "metadata": {},
   "outputs": [],
   "source": [
    "# 2.1 Create classification.csv and regression.csv\n",
    "from create_corpus import main as create_corpus\n",
    "create_corpus()\n"
   ]
  },
  {
   "cell_type": "code",
   "execution_count": null,
   "metadata": {},
   "outputs": [],
   "source": [
    "from split_corpus import None as split_runner  # no main() here, split runs on import\n",
    "# If split_corpus.py doesn’t wrap its logic in a function, you can instead:\n",
    "import split_corpus  # module’s top‐level code will execute splitting\n"
   ]
  },
  {
   "cell_type": "code",
   "execution_count": null,
   "metadata": {},
   "outputs": [],
   "source": [
    "from generate_embeddings import process_split\n",
    "\n",
    "splits = [\n",
    "    \"classification_train\", \"classification_val\", \"classification_test\",\n",
    "    \"regression_train\",     \"regression_val\",     \"regression_test\"\n",
    "]\n",
    "\n",
    "for s in splits:\n",
    "    print(f\"Embedding split: {s}\")\n",
    "    process_split(s)\n"
   ]
  },
  {
   "cell_type": "code",
   "execution_count": null,
   "metadata": {},
   "outputs": [],
   "source": [
    "# This will write pe.pt and ptm.pt under tiny_heads/\n",
    "!python train_heads.py\n"
   ]
  },
  {
   "cell_type": "code",
   "execution_count": null,
   "metadata": {},
   "outputs": [],
   "source": [
    "from faiss_index import build_faiss_index\n",
    "build_faiss_index(\n",
    "    emb_file=\"embeddings/classification_train.npz\",\n",
    "    idx_file=\"embeddings/classification_train.index\"\n",
    ")\n"
   ]
  },
  {
   "cell_type": "code",
   "execution_count": null,
   "metadata": {},
   "outputs": [],
   "source": [
    "from rag_pipeline import answer\n",
    "\n",
    "examples = [\n",
    "    \"What is the protein existence level of lactase?\",\n",
    "    \"How many predicted PTM sites are there for P09812?\",\n",
    "    \"PTM count for MVHFAELVK?\",\n",
    "    \"Level of protein existence for ACDEFGHIKL?\",\n",
    "    \"What is the existence level of mouse hemoglobin?\",\n",
    "    \"PTM count for E. coli DnaK?\"\n",
    "]\n",
    "\n",
    "for q in examples:\n",
    "    print(\"▶\", q)\n",
    "    print(\"→\", answer(q), \"\\n\")\n"
   ]
  },
  {
   "cell_type": "code",
   "execution_count": null,
   "metadata": {},
   "outputs": [],
   "source": [
    "# In one cell you can launch the API—but note this will block the kernel:\n",
    "!uvicorn serve_api:app --reload --port 8000\n"
   ]
  }
 ],
 "metadata": {
  "language_info": {
   "name": "python"
  },
  "orig_nbformat": 4
 },
 "nbformat": 4,
 "nbformat_minor": 2
}
